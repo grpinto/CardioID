{
 "cells": [
  {
   "cell_type": "code",
   "execution_count": 11,
   "metadata": {},
   "outputs": [],
   "source": [
    "import wfdb\n",
    "import os\n",
    "import pandas as pd\n",
    "import scipy\n",
    "from biosppy.signals import ecg\n",
    "from matplotlib import pyplot as plt\n",
    "import numpy as np\n",
    "from IPython.display import display"
   ]
  },
  {
   "cell_type": "code",
   "execution_count": 12,
   "metadata": {},
   "outputs": [],
   "source": [
    "# File handling\n",
    "\n",
    "with open(\"mit-bih-normal-sinus-rhythm-database-1.0.0/RECORDS\") as f:\n",
    "    content = f.read()\n",
    "\n",
    "root_directory = \"mit-bih-normal-sinus-rhythm-database-1.0.0\""
   ]
  },
  {
   "cell_type": "code",
   "execution_count": 13,
   "metadata": {},
   "outputs": [],
   "source": [
    "# Data Creation\n",
    "\n",
    "split_lines = content.splitlines()\n",
    "nsr_signals = {}"
   ]
  },
  {
   "cell_type": "code",
   "execution_count": 24,
   "metadata": {},
   "outputs": [
    {
     "data": {
      "text/plain": [
       "{'record_name': '16265',\n",
       " 'n_sig': 2,\n",
       " 'fs': 128,\n",
       " 'counter_freq': None,\n",
       " 'base_counter': None,\n",
       " 'sig_len': 11730944,\n",
       " 'base_time': datetime.time(8, 4),\n",
       " 'base_date': None,\n",
       " 'comments': ['32 M'],\n",
       " 'sig_name': ['ECG1', 'ECG2'],\n",
       " 'p_signal': array([[-0.165, -0.325],\n",
       "        [-0.155, -0.325],\n",
       "        [-0.195, -0.305],\n",
       "        ...,\n",
       "        [-0.05 , -0.095],\n",
       "        [-0.05 , -0.085],\n",
       "        [-0.05 , -0.085]]),\n",
       " 'd_signal': None,\n",
       " 'e_p_signal': None,\n",
       " 'e_d_signal': None,\n",
       " 'file_name': ['16265.dat', '16265.dat'],\n",
       " 'fmt': ['212', '212'],\n",
       " 'samps_per_frame': [1, 1],\n",
       " 'skew': [None, None],\n",
       " 'byte_offset': [None, None],\n",
       " 'adc_gain': [200.0, 200.0],\n",
       " 'baseline': [0, 0],\n",
       " 'units': ['mV', 'mV'],\n",
       " 'adc_res': [12, 12],\n",
       " 'adc_zero': [0, 0],\n",
       " 'init_value': [-33, -65],\n",
       " 'checksum': [15756, -21174],\n",
       " 'block_size': [0, 0]}"
      ]
     },
     "metadata": {},
     "output_type": "display_data"
    },
    {
     "ename": "KeyboardInterrupt",
     "evalue": "",
     "output_type": "error",
     "traceback": [
      "\u001b[0;31m---------------------------------------------------------------------------\u001b[0m",
      "\u001b[0;31mKeyboardInterrupt\u001b[0m                         Traceback (most recent call last)",
      "Cell \u001b[0;32mIn [24], line 22\u001b[0m\n\u001b[1;32m     18\u001b[0m         all_recordings[line] \u001b[38;5;241m=\u001b[39m out\n\u001b[1;32m     20\u001b[0m     \u001b[38;5;28;01mreturn\u001b[39;00m all_recordings\n\u001b[0;32m---> 22\u001b[0m rr_peaks \u001b[38;5;241m=\u001b[39m \u001b[43mget_rr_peaks\u001b[49m\u001b[43m(\u001b[49m\u001b[43mnsr_signals\u001b[49m\u001b[43m,\u001b[49m\u001b[43m \u001b[49m\u001b[43msplit_lines\u001b[49m\u001b[43m)\u001b[49m\n",
      "Cell \u001b[0;32mIn [24], line 17\u001b[0m, in \u001b[0;36mget_rr_peaks\u001b[0;34m(all_recordings, lines)\u001b[0m\n\u001b[1;32m     12\u001b[0m     signal \u001b[38;5;241m=\u001b[39m current_recording\u001b[38;5;241m.\u001b[39mp_signal\n\u001b[1;32m     14\u001b[0m     \u001b[38;5;66;03m# We are using the second channel of the recording \u001b[39;00m\n\u001b[1;32m     15\u001b[0m     \u001b[38;5;66;03m# We should also try the first one\u001b[39;00m\n\u001b[0;32m---> 17\u001b[0m     out \u001b[38;5;241m=\u001b[39m \u001b[43mecg\u001b[49m\u001b[38;5;241;43m.\u001b[39;49m\u001b[43mecg\u001b[49m\u001b[43m(\u001b[49m\u001b[43msignal\u001b[49m\u001b[38;5;241;43m=\u001b[39;49m\u001b[43mcurrent_recording\u001b[49m\u001b[38;5;241;43m.\u001b[39;49m\u001b[43mp_signal\u001b[49m\u001b[43m[\u001b[49m\u001b[43m:\u001b[49m\u001b[43m,\u001b[49m\u001b[43m \u001b[49m\u001b[38;5;241;43m1\u001b[39;49m\u001b[43m]\u001b[49m\u001b[43m,\u001b[49m\u001b[43m \u001b[49m\u001b[43msampling_rate\u001b[49m\u001b[38;5;241;43m=\u001b[39;49m\u001b[43mfs\u001b[49m\u001b[43m,\u001b[49m\u001b[43m \u001b[49m\u001b[43mshow\u001b[49m\u001b[38;5;241;43m=\u001b[39;49m\u001b[38;5;28;43;01mFalse\u001b[39;49;00m\u001b[43m)\u001b[49m[\u001b[38;5;124m'\u001b[39m\u001b[38;5;124mrpeaks\u001b[39m\u001b[38;5;124m'\u001b[39m]\n\u001b[1;32m     18\u001b[0m     all_recordings[line] \u001b[38;5;241m=\u001b[39m out\n\u001b[1;32m     20\u001b[0m \u001b[38;5;28;01mreturn\u001b[39;00m all_recordings\n",
      "File \u001b[0;32m~/.pyenv/versions/3.10.7/lib/python3.10/site-packages/biosppy/signals/ecg.py:90\u001b[0m, in \u001b[0;36mecg\u001b[0;34m(signal, sampling_rate, path, show, interactive)\u001b[0m\n\u001b[1;32m     80\u001b[0m filtered, _, _ \u001b[39m=\u001b[39m st\u001b[39m.\u001b[39mfilter_signal(\n\u001b[1;32m     81\u001b[0m     signal\u001b[39m=\u001b[39msignal,\n\u001b[1;32m     82\u001b[0m     ftype\u001b[39m=\u001b[39m\u001b[39m\"\u001b[39m\u001b[39mFIR\u001b[39m\u001b[39m\"\u001b[39m,\n\u001b[0;32m   (...)\u001b[0m\n\u001b[1;32m     86\u001b[0m     sampling_rate\u001b[39m=\u001b[39msampling_rate,\n\u001b[1;32m     87\u001b[0m )\n\u001b[1;32m     89\u001b[0m \u001b[39m# segment\u001b[39;00m\n\u001b[0;32m---> 90\u001b[0m (rpeaks,) \u001b[39m=\u001b[39m hamilton_segmenter(signal\u001b[39m=\u001b[39;49mfiltered, sampling_rate\u001b[39m=\u001b[39;49msampling_rate)\n\u001b[1;32m     92\u001b[0m \u001b[39m# correct R-peak locations\u001b[39;00m\n\u001b[1;32m     93\u001b[0m (rpeaks,) \u001b[39m=\u001b[39m correct_rpeaks(\n\u001b[1;32m     94\u001b[0m     signal\u001b[39m=\u001b[39mfiltered, rpeaks\u001b[39m=\u001b[39mrpeaks, sampling_rate\u001b[39m=\u001b[39msampling_rate, tol\u001b[39m=\u001b[39m\u001b[39m0.05\u001b[39m\n\u001b[1;32m     95\u001b[0m )\n",
      "File \u001b[0;32m~/.pyenv/versions/3.10.7/lib/python3.10/site-packages/biosppy/signals/ecg.py:1096\u001b[0m, in \u001b[0;36mhamilton_segmenter\u001b[0;34m(signal, sampling_rate)\u001b[0m\n\u001b[1;32m   1094\u001b[0m DT_vec \u001b[39m+\u001b[39m\u001b[39m=\u001b[39m [DT]\n\u001b[1;32m   1095\u001b[0m \u001b[39m# 1 - Checking if f-peak is larger than any peak following or preceding it by less than 200 ms\u001b[39;00m\n\u001b[0;32m-> 1096\u001b[0m peak_cond \u001b[39m=\u001b[39m np\u001b[39m.\u001b[39;49marray(\n\u001b[1;32m   1097\u001b[0m     (all_peaks \u001b[39m>\u001b[39;49m f \u001b[39m-\u001b[39;49m lim) \u001b[39m*\u001b[39;49m (all_peaks \u001b[39m<\u001b[39;49m f \u001b[39m+\u001b[39;49m lim) \u001b[39m*\u001b[39;49m (all_peaks \u001b[39m!=\u001b[39;49m f)\n\u001b[1;32m   1098\u001b[0m )\n\u001b[1;32m   1099\u001b[0m peaks_within \u001b[39m=\u001b[39m all_peaks[peak_cond]\n\u001b[1;32m   1100\u001b[0m \u001b[39mif\u001b[39;00m peaks_within\u001b[39m.\u001b[39many() \u001b[39mand\u001b[39;00m (\u001b[39mmax\u001b[39m(dx[peaks_within]) \u001b[39m>\u001b[39m dx[f]):\n",
      "\u001b[0;31mKeyboardInterrupt\u001b[0m: "
     ]
    }
   ],
   "source": [
    "# Create a variable that is a dic and get the rpeaks \n",
    "\n",
    "def get_rr_peaks(all_recordings, lines):\n",
    "\n",
    "    fs = 128\n",
    "\n",
    "    for line in lines:\n",
    "\n",
    "        path = os.path.join(root_directory, line)\n",
    "        current_recording = wfdb.rdrecord(path)\n",
    "        display(current_recording.__dict__)\n",
    "        signal = current_recording.p_signal\n",
    "\n",
    "        # We are using the second channel of the recording \n",
    "        # We should also try the first one\n",
    "\n",
    "        out = ecg.ecg(signal=current_recording.p_signal[:, 1], sampling_rate=fs, show=False)['rpeaks']\n",
    "        all_recordings[line] = out\n",
    "\n",
    "    return all_recordings\n",
    "\n",
    "rr_peaks = get_rr_peaks(nsr_signals, split_lines)"
   ]
  },
  {
   "cell_type": "code",
   "execution_count": 21,
   "metadata": {},
   "outputs": [
    {
     "name": "stdout",
     "output_type": "stream",
     "text": [
      "[array([28.7890625, 50.9453125, 17.4375   , ..., 41.03125  , 79.359375 ,\n",
      "       28.171875 ]), array([   8.       ,   36.53125  ,   25.9921875, ...,   44.5546875,\n",
      "       5502.265625 ,   27.4296875]), array([31.6875   , 29.921875 , 19.0078125, ..., 20.3828125, 59.765625 ,\n",
      "       40.125    ]), array([ 23.734375 ,  38.1015625, 125.59375  , ...,  81.640625 ,\n",
      "        20.4375   ,  46.1328125]), array([118.8125   ,  15.171875 ,  31.3828125, ...,  96.90625  ,\n",
      "        35.8203125,  20.46875  ]), array([29.3671875, 18.390625 ,  2.5546875, ..., 20.34375  , 27.875    ,\n",
      "       94.4296875]), array([ 48.       ,  75.375    ,  31.1796875, ...,  35.671875 ,\n",
      "        91.5859375, 173.8828125]), array([  70.46875  ,   19.6875   ,   30.46875  , ..., 4049.2734375,\n",
      "         27.25     ,   10.1796875]), array([19.5      , 28.3125   , 70.0390625, ..., 32.8671875, 46.109375 ,\n",
      "       58.5859375]), array([  50.140625 ,   22.8046875,   79.375    , ...,   56.9140625,\n",
      "         44.1640625, 6801.703125 ]), array([ 47.1015625,   7.9453125,  44.9609375, ...,  20.4921875,\n",
      "        30.71875  , 209.140625 ]), array([  15.2421875,   28.6640625,   17.8203125, ..., 1159.2578125,\n",
      "        303.0390625,   35.1875   ]), array([ 94.7421875,  44.109375 , 129.6875   , ...,  30.59375  ,\n",
      "        57.96875  ,  13.4609375]), array([ 25.2109375,  45.1328125,  31.78125  , ...,  61.109375 ,\n",
      "        25.515625 , 101.84375  ]), array([32.9375   , 42.609375 , 22.2109375, ..., 50.890625 , 50.484375 ,\n",
      "       34.203125 ]), array([43.859375 , 24.96875  , 29.5703125, ..., 13.875    , 28.0625   ,\n",
      "       79.1171875]), array([ 29.5625  ,  29.4375  ,  29.078125, ...,  45.953125, 112.15625 ,\n",
      "        45.703125]), array([30.125    , 22.453125 , 22.625    , ..., 55.109375 , 34.359375 ,\n",
      "       18.0703125])]\n"
     ]
    }
   ],
   "source": [
    "rri = []\n",
    "keys = list(rr_peaks.keys())\n",
    "values = list(rr_peaks.values())\n",
    "for i in range(len(values)):\n",
    "    rri.append(np.diff(values[i])/128)\n",
    "print(rri)\n",
    "display()"
   ]
  },
  {
   "cell_type": "code",
   "execution_count": 29,
   "metadata": {},
   "outputs": [
    {
     "name": "stdout",
     "output_type": "stream",
     "text": [
      "['__class__', '__delattr__', '__dict__', '__dir__', '__doc__', '__eq__', '__format__', '__ge__', '__getattribute__', '__gt__', '__hash__', '__init__', '__init_subclass__', '__le__', '__lt__', '__module__', '__ne__', '__new__', '__reduce__', '__reduce_ex__', '__repr__', '__setattr__', '__sizeof__', '__str__', '__subclasshook__', '__weakref__', 'ann_len', 'apply_range', 'aux_note', 'calc_cl_bytes', 'calc_core_bytes', 'calc_fs_bytes', 'chan', 'check_field', 'check_field_cohesion', 'check_fields', 'compact_fields', 'contained_labels', 'convert_label_attribute', 'create_label_map', 'custom_labels', 'description', 'extension', 'fs', 'get_available_label_stores', 'get_contained_labels', 'get_custom_label_attribute', 'get_label_fields', 'get_undefined_label_stores', 'label_store', 'num', 'record_name', 'rm_attributes', 'sample', 'set_label_elements', 'standardize_custom_labels', 'subtype', 'sym_to_aux', 'symbol', 'wr_ann_file', 'wrann']\n",
      "[398.4375 601.5625 609.375  ... 796.875  843.75   882.8125]\n"
     ]
    }
   ],
   "source": [
    "record = wfdb.rdrecord('mit-bih-normal-sinus-rhythm-database-1.0.0/16265') # Load the ECG recording\n",
    "annotation = wfdb.rdann('mit-bih-normal-sinus-rhythm-database-1.0.0/16265', 'atr') # Load the ECG annotation\n",
    "r_peaks = annotation.sample # Extract R-peak positions\n",
    "print(1000*np.diff(r_peaks)/128)\n"
   ]
  },
  {
   "cell_type": "code",
   "execution_count": 30,
   "metadata": {},
   "outputs": [
    {
     "name": "stdout",
     "output_type": "stream",
     "text": [
      "[398.4375 601.5625 609.375  ... 796.875  843.75   882.8125]\n",
      "[562.5   984.375 953.125 ... 796.875 781.25  656.25 ]\n",
      "[609.375  601.5625 601.5625 ... 695.3125 726.5625 679.6875]\n",
      "[625.     625.     632.8125 ... 703.125  679.6875 328.125 ]\n",
      "[632.8125 617.1875 617.1875 ... 664.0625 648.4375 664.0625]\n",
      "[ 750.      781.25    750.     ...  859.375  1148.4375  234.375 ]\n",
      "[382.8125 312.5    515.625  ... 609.375  328.125  414.0625]\n",
      "[554.6875 843.75   859.375  ... 781.25   757.8125 804.6875]\n",
      "[367.1875 468.75   359.375  ... 500.     500.     500.    ]\n",
      "[898.4375 890.625  859.375  ... 789.0625 757.8125 656.25  ]\n",
      "[718.75   695.3125 695.3125 ... 710.9375 734.375  453.125 ]\n",
      "[5.31250000e+02 5.31250000e+02 5.31250000e+02 ... 1.67609375e+05\n",
      " 6.18979688e+06 6.91015625e+04]\n",
      "[ 601.5625  757.8125  804.6875 ... 6617.1875 1125.     1125.    ]\n",
      "[273.4375 500.     500.     ... 687.5    656.25   304.6875]\n",
      "[500.     500.     500.     ... 851.5625 835.9375 500.    ]\n",
      "[476.5625 500.     500.     ... 328.125  742.1875 218.75  ]\n",
      "[500.     500.     500.     ... 773.4375 750.     382.8125]\n",
      "[375.     500.     500.     ... 648.4375 632.8125 421.875 ]\n"
     ]
    }
   ],
   "source": [
    "def get_rr_peaks(all_recordings, lines):\n",
    "\n",
    "    fs = 128\n",
    "\n",
    "    for line in lines:\n",
    "\n",
    "        path = os.path.join(root_directory, line)\n",
    "        current_recording = wfdb.rdrecord(path)\n",
    "        annotation = wfdb.rdann(path, 'atr') # Load the ECG annotation\n",
    "        r_peaks = annotation.sample # Extract R-peak positions\n",
    "        print(1000*np.diff(r_peaks)/128)\n",
    "\n",
    "    return all_recordings\n",
    "\n",
    "rr_intervals = get_rr_peaks(nsr_signals, split_lines)"
   ]
  }
 ],
 "metadata": {
  "kernelspec": {
   "display_name": "Python 3.10.7 64-bit ('3.10.7')",
   "language": "python",
   "name": "python3"
  },
  "language_info": {
   "codemirror_mode": {
    "name": "ipython",
    "version": 3
   },
   "file_extension": ".py",
   "mimetype": "text/x-python",
   "name": "python",
   "nbconvert_exporter": "python",
   "pygments_lexer": "ipython3",
   "version": "3.10.7"
  },
  "orig_nbformat": 4,
  "vscode": {
   "interpreter": {
    "hash": "47f51ded9d936358ea4fe82bf7458b28939dfb45c90b7ab063b745a4a593fa7b"
   }
  }
 },
 "nbformat": 4,
 "nbformat_minor": 2
}
